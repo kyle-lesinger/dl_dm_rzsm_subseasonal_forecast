{
 "cells": [
  {
   "cell_type": "code",
   "execution_count": 1,
   "id": "7302f239-5aba-4164-8125-86df134c9bd5",
   "metadata": {
    "tags": []
   },
   "outputs": [
    {
     "name": "stderr",
     "output_type": "stream",
     "text": [
      "/glade/work/klesinger/conda-envs/tf212gpu/lib/python3.10/site-packages/tqdm/auto.py:21: TqdmWarning: IProgress not found. Please update jupyter and ipywidgets. See https://ipywidgets.readthedocs.io/en/stable/user_install.html\n",
      "  from .autonotebook import tqdm as notebook_tqdm\n"
     ]
    }
   ],
   "source": [
    "%load_ext autoreload\n",
    "%autoreload 2\n",
    "%reload_ext autoreload\n",
    "\n",
    "import xarray as xr\n",
    "import numpy as np\n",
    "import os\n",
    "from glob import glob\n",
    "from mpl_toolkits.basemap import Basemap\n",
    "from numpy import meshgrid\n",
    "from mpl_toolkits.axes_grid1.axes_divider import make_axes_locatable\n",
    "import matplotlib.colors as mcolors\n",
    "import cartopy.feature as cfeature\n",
    "import itertools\n",
    "import cartopy.crs as ccrs\n",
    "from cartopy.mpl.ticker import LongitudeFormatter, LatitudeFormatter, LatitudeLocator\n",
    "import matplotlib.ticker as mticker\n",
    "import matplotlib.pyplot as plt\n",
    "from matplotlib.colors import ListedColormap, TwoSlopeNorm\n",
    "import pandas as pd\n",
    "import math\n",
    "from scipy.stats import percentileofscore as pos\n",
    "from datetime import datetime\n",
    "import datetime as dt\n",
    "from multiprocessing import Pool\n",
    "\n",
    "import json\n",
    "\n",
    "#Personal functions\n",
    "from function import funs\n",
    "from function import preprocessUtils as putils\n",
    "from function import conf\n",
    "from function import masks"
   ]
  },
  {
   "cell_type": "code",
   "execution_count": 8,
   "id": "612950b1-1fcf-4522-b79c-7d85f090e726",
   "metadata": {
    "scrolled": true,
    "tags": []
   },
   "outputs": [
    {
     "name": "stdout",
     "output_type": "stream",
     "text": [
      "Loading data from base directory /glade/work/klesinger/FD_RZSM_deep_learning/Data/reforecast/GEFSv12\n"
     ]
    },
    {
     "data": {
      "text/plain": [
       "0"
      ]
     },
     "execution_count": 8,
     "metadata": {},
     "output_type": "execute_result"
    }
   ],
   "source": [
    "#Test with small subset of data\n",
    "region_name=\"CONUS\"\n",
    "print(f'Loading data from base directory {conf.gefsv12_data}')\n",
    "data_RZSM = xr.open_dataset(f'{conf.gefsv12_data}/{region_name}/soilw_bgrnd/soilw_bgrnd_EMC_2012-09-26.nc')\n",
    "data_z200 = xr.open_dataset(f'{conf.gefsv12_data}/{region_name}/hgt_pres/hgt_pres_EMC_2016-04-20.nc')\n",
    "data_pwat = xr.open_dataset(f'{conf.gefsv12_data}/{region_name}/pwat_eatm/pwat_eatm_EMC_2014-04-30.nc')\n",
    "data_tmax = xr.open_dataset(f'{conf.gefsv12_data}/{region_name}/tmax_2m/tmax_2m_EMC_2016-04-20.nc')\n",
    "\n",
    "\n",
    "mask = masks.load_mask(region_name)\n",
    "\n",
    "save_dir = 'Outputs/images_for_diagram'\n",
    "os.system(f'mkdir -p {save_dir}')"
   ]
  },
  {
   "cell_type": "markdown",
   "id": "64baeaf5-1a76-492d-b141-581057d8021e",
   "metadata": {},
   "source": [
    "# The purpose of this next code block is to simply create some static images to be used in some figure diagrams for the UNET architecture"
   ]
  },
  {
   "cell_type": "code",
   "execution_count": 9,
   "id": "47a98570-94b2-4c42-b98d-8dba1cbf9a3f",
   "metadata": {},
   "outputs": [],
   "source": [
    "\n",
    "def plot_and_save(file, name, lead_index):\n",
    "    plt.rcParams['figure.dpi'] = 300\n",
    "    plt.rcParams['savefig.dpi'] = 300\n",
    "    new_X_coords = putils.create_new_X_coord_values(file)\n",
    "    file = file.assign_coords({'X':new_X_coords})\n",
    "    file = putils.restrict_to_bounding_box(file,mask)\n",
    "    file = file.isel(S=0).isel(L=lead_index,M=0)\n",
    "    \n",
    "    \n",
    "    ax = plt.axes(projection=ccrs.PlateCarree())\n",
    "    file[putils.xarray_varname(file)].plot.pcolormesh(ax=ax,cmap='bwr')\n",
    "    ax.coastlines()\n",
    "    plt.savefig(f'{save_dir}/{name}_{lead_index}.png')\n",
    "    plt.close()\n",
    "\n",
    "\n",
    "plot_and_save(data_z200, 'z200', 0)\n",
    "plot_and_save(data_z200, 'z200', 34)\n",
    "plot_and_save(data_pwat, 'pwat', 0)\n",
    "plot_and_save(data_pwat, 'pwat', 34)\n",
    "plot_and_save(data_tmax, 'tmax', 0)\n",
    "plot_and_save(data_tmax, 'tmax', 34)"
   ]
  },
  {
   "cell_type": "code",
   "execution_count": 10,
   "id": "92e5a116-cf40-4dab-bc8e-c72b6a8dfd54",
   "metadata": {},
   "outputs": [],
   "source": [
    "def plot_and_save_RZSM(file, name, lead_index, model):\n",
    "    plt.rcParams['figure.dpi'] = 300\n",
    "    plt.rcParams['savefig.dpi'] = 300\n",
    "    new_X_coords = putils.create_new_X_coord_values(file)\n",
    "    file = file.assign_coords({'X':new_X_coords})\n",
    "    file = putils.restrict_to_bounding_box(file,mask)\n",
    "    file = file.isel(S=0).isel(L=lead_index,M=model)\n",
    "    file = xr.where(file[putils.xarray_varname(file)]>=0.4,np.nan,file)\n",
    "    \n",
    "    ax = plt.axes(projection=ccrs.PlateCarree())\n",
    "    file[putils.xarray_varname(file)].plot.pcolormesh(ax=ax,cmap='bwr')\n",
    "    ax.coastlines()\n",
    "    plt.savefig(f'{save_dir}/{name}_{lead_index}_mod{model}.png')\n",
    "    plt.close()\n",
    "\n"
   ]
  },
  {
   "cell_type": "code",
   "execution_count": 12,
   "id": "e72c0101-e42a-4ea9-832d-8d601cf44b53",
   "metadata": {},
   "outputs": [],
   "source": [
    "plot_and_save_RZSM(xr.open_dataset(f'{conf.gefsv12_data}/{region_name}/baseline_RZSM_anomaly/soilw_bgrnd_2001-05-02.nc'), 'RZSM', 7,0)\n",
    "plot_and_save_RZSM(xr.open_dataset(f'{conf.gefsv12_data}/{region_name}/baseline_RZSM_anomaly/soilw_bgrnd_2001-05-02.nc'), 'RZSM', 34,0)\n",
    "plot_and_save_RZSM(xr.open_dataset(f'{conf.gefsv12_data}/{region_name}/baseline_RZSM_anomaly/soilw_bgrnd_2001-05-02.nc'), 'RZSM', 34,7)\n",
    "# plot_and_save_RZSM(data_RZSM, 'RZSM', 13,10)\n",
    "plot_and_save_RZSM(xr.open_dataset(f'{conf.gefsv12_data}/{region_name}/baseline_RZSM_anomaly/soilw_bgrnd_2012-09-05.nc'), 'RZSM', 9,0)\n",
    "plot_and_save_RZSM(xr.open_dataset(f'{conf.gefsv12_data}/{region_name}/baseline_RZSM_anomaly/soilw_bgrnd_2012-09-05.nc'), 'RZSM', 33,0)\n",
    "plot_and_save_RZSM(xr.open_dataset(f'{conf.gefsv12_data}/{region_name}/baseline_RZSM_anomaly/soilw_bgrnd_2012-09-05.nc'), 'RZSM', 33,2)\n",
    "plot_and_save_RZSM(xr.open_dataset(f'{conf.gefsv12_data}/{region_name}/baseline_RZSM_anomaly/soilw_bgrnd_2012-09-05.nc'), 'RZSM', 33,9)\n",
    "\n",
    "plot_and_save_RZSM(xr.open_dataset(f'{conf.gefsv12_data}/{region_name}/baseline_RZSM_anomaly/soilw_bgrnd_2010-10-13.nc'), 'RZSM', 7,0)\n",
    "plot_and_save_RZSM(xr.open_dataset(f'{conf.gefsv12_data}/{region_name}/baseline_RZSM_anomaly/soilw_bgrnd_2010-10-13.nc'), 'RZSM', 32,8)\n",
    "plot_and_save_RZSM(xr.open_dataset(f'{conf.gefsv12_data}/{region_name}/baseline_RZSM_anomaly/soilw_bgrnd_2010-10-13.nc'), 'RZSM', 32,6)\n",
    "\n",
    "plot_and_save_RZSM(xr.open_dataset(f'{conf.gefsv12_data}/{region_name}/baseline_RZSM_anomaly/soilw_bgrnd_2019-12-25.nc'), 'RZSM', 10,0)\n",
    "plot_and_save_RZSM(xr.open_dataset(f'{conf.gefsv12_data}/{region_name}/baseline_RZSM_anomaly/soilw_bgrnd_2019-12-25.nc'), 'RZSM', 31,0)\n",
    "plot_and_save_RZSM(xr.open_dataset(f'{conf.gefsv12_data}/{region_name}/baseline_RZSM_anomaly/soilw_bgrnd_2019-12-25.nc'), 'RZSM', 31,2)\n",
    "plot_and_save_RZSM(xr.open_dataset(f'{conf.gefsv12_data}/{region_name}/baseline_RZSM_anomaly/soilw_bgrnd_2019-12-25.nc'), 'RZSM', 31,9)"
   ]
  },
  {
   "cell_type": "code",
   "execution_count": null,
   "id": "830c8a59-5da2-4740-8bde-26b47dee04fb",
   "metadata": {},
   "outputs": [],
   "source": [
    "file=data_RZSM"
   ]
  },
  {
   "cell_type": "code",
   "execution_count": null,
   "id": "128a6a8b-4626-437a-b03b-f1f9407be145",
   "metadata": {},
   "outputs": [],
   "source": [
    "file[putils.xarray_varname(file)]"
   ]
  },
  {
   "cell_type": "code",
   "execution_count": null,
   "id": "bf2cda7a-7b49-4069-b92a-d922e3cff0a3",
   "metadata": {},
   "outputs": [],
   "source": []
  }
 ],
 "metadata": {
  "kernelspec": {
   "display_name": "Python [conda env:tf212gpu]",
   "language": "python",
   "name": "conda-env-tf212gpu-py"
  },
  "language_info": {
   "codemirror_mode": {
    "name": "ipython",
    "version": 3
   },
   "file_extension": ".py",
   "mimetype": "text/x-python",
   "name": "python",
   "nbconvert_exporter": "python",
   "pygments_lexer": "ipython3",
   "version": "3.10.12"
  },
  "toc-autonumbering": true,
  "toc-showcode": true
 },
 "nbformat": 4,
 "nbformat_minor": 5
}
