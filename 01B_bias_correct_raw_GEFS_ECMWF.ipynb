{
 "cells": [
  {
   "cell_type": "code",
   "execution_count": null,
   "id": "7302f239-5aba-4164-8125-86df134c9bd5",
   "metadata": {
    "tags": []
   },
   "outputs": [
    {
     "name": "stdout",
     "output_type": "stream",
     "text": [
      "The autoreload extension is already loaded. To reload it, use:\n",
      "  %reload_ext autoreload\n"
     ]
    }
   ],
   "source": [
    "%load_ext autoreload\n",
    "%autoreload 2\n",
    "%reload_ext autoreload\n",
    "\n",
    "import xarray as xr\n",
    "import numpy as np\n",
    "import os\n",
    "from glob import glob\n",
    "from mpl_toolkits.basemap import Basemap\n",
    "from numpy import meshgrid\n",
    "from mpl_toolkits.axes_grid1.axes_divider import make_axes_locatable\n",
    "import matplotlib.colors as mcolors\n",
    "import cartopy.feature as cfeature\n",
    "import itertools\n",
    "import cartopy.crs as ccrs\n",
    "from cartopy.mpl.ticker import LongitudeFormatter, LatitudeFormatter, LatitudeLocator\n",
    "import matplotlib.ticker as mticker\n",
    "import matplotlib.pyplot as plt\n",
    "from matplotlib.colors import ListedColormap, TwoSlopeNorm\n",
    "import pandas as pd\n",
    "import math\n",
    "from datetime import datetime\n",
    "import datetime as dt\n",
    "from ridgeplot import ridgeplot\n",
    "import joypy\n",
    "import seaborn as sns\n",
    "from matplotlib import cm\n",
    "import climpred\n",
    "from xclim import sdba\n",
    "from climpred.options import OPTIONS\n",
    "import json\n",
    "from sklearn.metrics import roc_curve, auc, confusion_matrix, accuracy_score, precision_score, recall_score, f1_score\n",
    "\n",
    "from function import funs as f\n",
    "from function import preprocessUtils as putils\n",
    "from function import masks\n",
    "from function import verifications\n",
    "from function import conf\n",
    "from function import dataLoad\n"
   ]
  },
  {
   "cell_type": "code",
   "execution_count": null,
   "id": "eb9151ca-ad6a-4caf-9cf0-ff3406397db6",
   "metadata": {},
   "outputs": [],
   "source": [
    "region_name = 'china' #['australia','china','CONUS']\n",
    "obs_source = 'GLEAM' #['GLEAM','ERA5']\n",
    "\n",
    "if obs_source == 'ERA5':\n",
    "    soil_dir = conf.era_data\n",
    "elif obs_source == 'GLEAM':\n",
    "    soil_dir = conf.gleam_data"
   ]
  },
  {
   "cell_type": "code",
   "execution_count": null,
   "id": "49b3c50b-ae23-42d5-83d7-fb6d15d55902",
   "metadata": {},
   "outputs": [],
   "source": [
    "#Set script parameters \n",
    "dir = conf.home\n",
    "\n",
    "global dim_order,region_name\n",
    "dim_order = conf.dim_order\n",
    "\n",
    "test_start = '2018-01-01'\n",
    "test_end = '2019-12-31'\n",
    "val_start = '2016-01-01'\n",
    "val_end = '2017-12-31'\n",
    "train_start  = '2000-01-01'\n",
    "train_end = '2015-12-31'\n",
    "\n",
    "leads_ = [6,13,20,27,34]\n",
    "\n",
    "\n",
    "\n",
    "mask = masks.load_mask(region_name)\n",
    "\n",
    "if region_name == 'CONUS':\n",
    "    region_mask = masks.load_mask(region_name).rename({'Y':'lat','X':'lon'})\n",
    "    CONUS_region_names = {1:'Northeast',2:'Southeast',3:'Midwest',4:'Great Plains',5:'Northwest',6:'Southwest'}\n",
    "    #Mask with np.nan for non-CONUS land values\n",
    "    mask_anom = mask[putils.xarray_varname(mask)][:,:].values\n",
    "else:\n",
    "    mask_anom = mask[putils.xarray_varname(mask)][0,:,:].values\n",
    "\n",
    "#Load observation anomaly as raw file\n",
    "init_dates, dt_dates, only_testing_dates = dataLoad.return_init_and_testing_dates(region_name,test_start,test_end)"
   ]
  },
  {
   "cell_type": "code",
   "execution_count": null,
   "id": "6c141493-f905-4717-88f2-91b1e2007ea7",
   "metadata": {},
   "outputs": [],
   "source": [
    "\n"
   ]
  },
  {
   "cell_type": "code",
   "execution_count": null,
   "id": "45cb649e-223e-4043-9486-551e83488054",
   "metadata": {},
   "outputs": [],
   "source": [
    "'''Load data'''\n",
    "#Soil moisture \n",
    "global obs_original,obs_raw\n",
    "obs_anom, obs_raw = dataLoad.load_rzsm_observations(soil_dir,region_name)\n",
    "obs_raw = putils.restrict_to_bounding_box(obs_raw,mask)\n",
    "\n",
    "obs_anom[\"time\"] = obs_anom[\"time\"].dt.floor(\"D\")\n",
    "obs_raw[\"time\"] = obs_raw[\"time\"].dt.floor(\"D\")\n",
    "\n",
    "\n",
    "#reforecast soil data (raw)\n",
    "raw_gefs_soil, gefs_file_list, anom_gefs_soil = dataLoad.load_GEFS_soil_reforecast(region_name,mask_anom)\n",
    "raw_ecmwf_soil, anom_ecmwf_soil = dataLoad.load_ECMWF_soil_reforecast(region_name,mask_anom, init_dates)"
   ]
  },
  {
   "cell_type": "code",
   "execution_count": null,
   "id": "5649e376-b5a7-434f-b8c8-aa833f5c0551",
   "metadata": {},
   "outputs": [],
   "source": [
    "#We have different coordinate systems. So we need to add 360 to each of the X coordinates if they are negative\n",
    "if region_name == 'CONUS':\n",
    "    print(f'We are changing the coordinates of CONUS to match similar format as GLEAM or ERA5')\n",
    "    new_X_coords = [i+360 if i < 0 else i for i in raw_ecmwf_soil.X.values] #same as putils.create_new_X_coord_values\n",
    "    #Add the new coordinates\n",
    "    raw_ecmwf_soil = raw_ecmwf_soil.assign_coords({'X':new_X_coords})\n",
    "    anom_ecmwf_soil = anom_ecmwf_soil.assign_coords({'X':new_X_coords})\n",
    "    \n",
    "    raw_ecmwf_soil = putils.restrict_to_bounding_box(raw_ecmwf_soil,mask)\n",
    "    anom_ecmwf_soil = putils.restrict_to_bounding_box(anom_ecmwf_soil,mask)\n",
    "\n",
    "    new_X_coords = [i+360 if i < 0 else i for i in raw_ecmwf_soil.X.values] #same as putils.create_new_X_coord_values\n",
    "    #Add the new coordinates\n",
    "    raw_gefs_soil = raw_gefs_soil.assign_coords({'X':new_X_coords})\n",
    "    anom_gefs_soil = anom_gefs_soil.assign_coords({'X':new_X_coords})\n",
    "    \n",
    "    raw_gefs_soil = putils.restrict_to_bounding_box(raw_gefs_soil,mask)\n",
    "    anom_gefs_soil = putils.restrict_to_bounding_box(anom_gefs_soil,mask)\n",
    "\n",
    "    if obs_source == 'ERA5':\n",
    "        obs_raw = obs_raw.rename({'X':'longitude','Y':'latitude'})\n",
    "        obs_anom = obs_anom.rename({'X':'longitude','Y':'latitude'})"
   ]
  },
  {
   "cell_type": "code",
   "execution_count": null,
   "id": "4f83e6c2-581e-420e-9a29-6f71142a1576",
   "metadata": {},
   "outputs": [],
   "source": [
    "#Now bias correct and then take the anomaly\n",
    "    \n",
    "climpred.set_options(seasonality=\"dayofyear\") \n",
    "seasonality_str = OPTIONS[\"seasonality\"]\n",
    "\n",
    "obs_raw_climp = verifications.rename_obs_for_climpred(obs_raw)\n",
    "obs_anom_climp = verifications.rename_obs_for_climpred(obs_anom)\n",
    "\n",
    "# Set up data for additive bias correction\n",
    "# '''For GEFSv12 raw reforecast files (no anomaly)'''\n",
    "# bias_correct_gefs = verifications.rename_subx_for_climpred(gefs_raw)\n",
    "# additive_bias_gefs = verifications.additive_bias_removal(bias_correct_gefs,obs_full).get_initialized()\n",
    "\n",
    "\n",
    "'''For GEFSv12 anomaly reforecast files (this is what we actually need)'''\n",
    "bias_correct_gefs_anom = verifications.rename_subx_for_climpred(anom_gefs_soil)\n",
    "additive_bias_gefs_anom = verifications.additive_bias_removal(bias_correct_gefs_anom,obs_anom_climp,train_start, train_end).get_initialized()\n",
    "\n",
    "'''For ECMWF anomaly reforecast files (this is what we actually need)'''\n",
    "bias_correct_ecmwf_anom = verifications.rename_subx_for_climpred(anom_ecmwf_soil.load())\n",
    "additive_bias_ecmwf_anom = verifications.additive_bias_removal(bias_correct_ecmwf_anom,obs_anom_climp,train_start, train_end).get_initialized()"
   ]
  },
  {
   "cell_type": "code",
   "execution_count": null,
   "id": "da55b006-e5d3-4861-b47c-b2205b7b0345",
   "metadata": {},
   "outputs": [],
   "source": [
    "\n",
    "additive_bias_ecmwf_anom = additive_bias_ecmwf_anom.drop('valid_time').load()\n",
    "additive_bias_gefs_anom = additive_bias_gefs_anom.drop('valid_time').load()\n"
   ]
  },
  {
   "cell_type": "markdown",
   "id": "67016429-c31b-4c81-a203-2013c1643aab",
   "metadata": {},
   "source": [
    "# Compute the ACC only testing data"
   ]
  },
  {
   "cell_type": "code",
   "execution_count": null,
   "id": "2c0cd78a-baff-43ae-a5f8-d76d7e276004",
   "metadata": {},
   "outputs": [],
   "source": [
    "ecm_acc = verifications.create_climpred_ACC(additive_bias_ecmwf_anom.sel(init=slice(test_start,None)), obs_anom_climp)\n",
    "gef_acc = verifications.create_climpred_ACC(additive_bias_gefs_anom.sel(init=slice(test_start,None)), obs_anom_climp)\n",
    "\n",
    "\n",
    "seasons = {\n",
    "    \"DJF\": [12, 1, 2],  # Winter\n",
    "    \"MAM\": [3, 4, 5],   # Spring\n",
    "    \"JJA\": [6, 7, 8],   # Summer\n",
    "    \"SON\": [9, 10, 11]  # Fall\n",
    "}"
   ]
  },
  {
   "cell_type": "code",
   "execution_count": null,
   "id": "ec42b47e-c860-4f65-858e-d1f2135b4ec9",
   "metadata": {},
   "outputs": [],
   "source": [
    "#Save data\n",
    "save_bias_corrected = f'Data/bias_corrected_reforecast/{region_name}'\n",
    "os.makedirs(save_bias_corrected,exist_ok=True)\n",
    "\n",
    "ecm_acc.to_netcdf(f'{save_bias_corrected}/ecmwf_acc_values_{obs_source}.nc')\n",
    "gef_acc.to_netcdf(f'{save_bias_corrected}/gefs_acc_values_{obs_source}.nc')\n",
    "\n",
    "additive_bias_ecmwf_anom.sel(init=slice(test_start,None)).to_netcdf(f'{save_bias_corrected}/ecmwf_anomaly_values_bias_corrected_testing_years_{obs_source}.nc')\n",
    "additive_bias_gefs_anom.sel(init=slice(test_start,None)).to_netcdf(f'{save_bias_corrected}/gefs_anomaly_values_bias_corrected_testing_years_{obs_source}.nc')"
   ]
  },
  {
   "cell_type": "code",
   "execution_count": null,
   "id": "e2efa6e2-f48f-4c1d-8c98-8e1dd9ab8ea4",
   "metadata": {},
   "outputs": [],
   "source": [
    "'''Compute for each season individually'''\n",
    "for season, months in seasons.items():\n",
    "    \n",
    "    # Filter datasets for the current season\n",
    "    gefs_season = additive_bias_gefs_anom.sel(init=additive_bias_gefs_anom['init'].dt.month.isin(months)).sel(init=slice(test_start,None))\n",
    "    ecmwf_season = additive_bias_ecmwf_anom.sel(init=additive_bias_ecmwf_anom['init'].dt.month.isin(months)).sel(init=slice(test_start,None))\n",
    "\n",
    "    ecm_acc = verifications.create_climpred_ACC(ecmwf_season, obs_anom_climp)\n",
    "    gef_acc = verifications.create_climpred_ACC(gefs_season, obs_anom_climp)\n",
    "\n",
    "    ecm_acc.to_netcdf(f'{save_bias_corrected}/ecmwf_acc_values_{season}_{obs_source}.nc')\n",
    "    gef_acc.to_netcdf(f'{save_bias_corrected}/gefs_acc_values_{season}_{obs_source}.nc')"
   ]
  },
  {
   "cell_type": "markdown",
   "id": "080eb316-d53b-4f0d-8ce9-6ab777d59c20",
   "metadata": {},
   "source": [
    "# Compute the CRPS only testing data"
   ]
  },
  {
   "cell_type": "code",
   "execution_count": null,
   "id": "20908b85-2d02-4c51-8c8d-1df1db7b76cc",
   "metadata": {},
   "outputs": [],
   "source": [
    "ecmwf_crps = verifications.create_climpred_CRPS(additive_bias_ecmwf_anom.sel(init=slice(test_start,None)), obs_anom_climp)\n",
    "gefs_crps = verifications.create_climpred_CRPS(additive_bias_gefs_anom.sel(init=slice(test_start,None)), obs_anom_climp)\n",
    "\n",
    "ecmwf_crps.to_netcdf(f'{save_bias_corrected}/ecmwf_crps_values_{obs_source}.nc')\n",
    "gefs_crps.to_netcdf(f'{save_bias_corrected}/gefs_crps_values_{obs_source}.nc')"
   ]
  },
  {
   "cell_type": "code",
   "execution_count": null,
   "id": "cf8f3695-7182-4eb5-ab67-d30a9ae7c0cd",
   "metadata": {},
   "outputs": [],
   "source": [
    "'''Compute for each season individually'''\n",
    "for season, months in seasons.items():\n",
    "    \n",
    "    # Filter datasets for the current season\n",
    "    gefs_season = additive_bias_gefs_anom.sel(init=additive_bias_gefs_anom['init'].dt.month.isin(months)).sel(init=slice(test_start,None))\n",
    "    ecmwf_season = additive_bias_ecmwf_anom.sel(init=additive_bias_ecmwf_anom['init'].dt.month.isin(months)).sel(init=slice(test_start,None))\n",
    "\n",
    "    ecm_acc = verifications.create_climpred_CRPS(ecmwf_season, obs_anom_climp)\n",
    "    gef_acc = verifications.create_climpred_CRPS(gefs_season, obs_anom_climp)\n",
    "\n",
    "    ecm_acc.to_netcdf(f'{save_bias_corrected}/ecmwf_crps_values_{season}_{obs_source}.nc')\n",
    "    gef_acc.to_netcdf(f'{save_bias_corrected}/gefs_crps_values_{season}_{obs_source}.nc')"
   ]
  },
  {
   "cell_type": "markdown",
   "id": "49caaed6-f093-4ded-a0cc-5cf2adfa394d",
   "metadata": {},
   "source": [
    "# Make CRPSS"
   ]
  },
  {
   "cell_type": "code",
   "execution_count": null,
   "id": "a37f926e-258e-4ee8-b987-fd1faffdbba4",
   "metadata": {},
   "outputs": [],
   "source": [
    "ecmwf_crps = verifications.create_climpred_CRPSS(additive_bias_ecmwf_anom.sel(init=slice(test_start,None)), obs_anom_climp)\n",
    "gefs_crps = verifications.create_climpred_CRPSS(additive_bias_gefs_anom.sel(init=slice(test_start,None)), obs_anom_climp)\n",
    "\n",
    "ecmwf_crps.to_netcdf(f'{save_bias_corrected}/ecmwf_crpss_values_{obs_source}.nc')\n",
    "gefs_crps.to_netcdf(f'{save_bias_corrected}/gefs_crpss_values_{obs_source}.nc')"
   ]
  },
  {
   "cell_type": "code",
   "execution_count": null,
   "id": "41bb273d-5ad4-4d55-938b-b4dc98c98b09",
   "metadata": {},
   "outputs": [],
   "source": [
    "'''Compute for each season individually'''\n",
    "for season, months in seasons.items():\n",
    "    \n",
    "    # Filter datasets for the current season\n",
    "    gefs_season = additive_bias_gefs_anom.sel(init=additive_bias_gefs_anom['init'].dt.month.isin(months)).sel(init=slice(test_start,None))\n",
    "    ecmwf_season = additive_bias_ecmwf_anom.sel(init=additive_bias_ecmwf_anom['init'].dt.month.isin(months)).sel(init=slice(test_start,None))\n",
    "\n",
    "    ecm_acc = verifications.create_climpred_CRPSS(ecmwf_season, obs_anom_climp)\n",
    "    gef_acc = verifications.create_climpred_CRPSS(gefs_season, obs_anom_climp)\n",
    "\n",
    "    ecm_acc.to_netcdf(f'{save_bias_corrected}/ecmwf_crpss_values_{season}_{obs_source}.nc')\n",
    "    gef_acc.to_netcdf(f'{save_bias_corrected}/gefs_crpss_values_{season}_{obs_source}.nc')"
   ]
  },
  {
   "cell_type": "code",
   "execution_count": null,
   "id": "cc60f167-94b3-46dd-94c9-fdd852303d01",
   "metadata": {},
   "outputs": [],
   "source": []
  },
  {
   "cell_type": "code",
   "execution_count": null,
   "id": "e6a02cc0-5a01-4ac4-b94b-85073fb6a838",
   "metadata": {},
   "outputs": [],
   "source": []
  },
  {
   "cell_type": "code",
   "execution_count": null,
   "id": "041e07fc-d5ba-4252-88fe-4a93066e98af",
   "metadata": {},
   "outputs": [],
   "source": []
  }
 ],
 "metadata": {
  "kernelspec": {
   "display_name": "Python [conda env:tf212gpu]",
   "language": "python",
   "name": "conda-env-tf212gpu-py"
  },
  "language_info": {
   "codemirror_mode": {
    "name": "ipython",
    "version": 3
   },
   "file_extension": ".py",
   "mimetype": "text/x-python",
   "name": "python",
   "nbconvert_exporter": "python",
   "pygments_lexer": "ipython3",
   "version": "3.10.12"
  },
  "toc-autonumbering": true,
  "toc-showcode": true
 },
 "nbformat": 4,
 "nbformat_minor": 5
}
