{
 "cells": [
  {
   "cell_type": "code",
   "execution_count": 2,
   "id": "ab59b12c-6979-4c35-b4be-b564f58aefe3",
   "metadata": {},
   "outputs": [],
   "source": [
    "import pysftp\n",
    "import os\n",
    "\n",
    "'''This wont work on NCAR server for some reason'''\n"
   ]
  },
  {
   "cell_type": "code",
   "execution_count": 3,
   "id": "4a802de3-a98a-40c1-8834-8128e75257a7",
   "metadata": {},
   "outputs": [
    {
     "ename": "SSHException",
     "evalue": "Unable to connect to hydras.ugent.be: [Errno 110] Connection timed out",
     "output_type": "error",
     "traceback": [
      "\u001b[0;31m---------------------------------------------------------------------------\u001b[0m",
      "\u001b[0;31mSSHException\u001b[0m                              Traceback (most recent call last)",
      "Cell \u001b[0;32mIn[3], line 16\u001b[0m\n\u001b[1;32m     13\u001b[0m cnopts\u001b[38;5;241m.\u001b[39mhostkeys \u001b[38;5;241m=\u001b[39m \u001b[38;5;28;01mNone\u001b[39;00m  \u001b[38;5;66;03m# Remove this line if using proper host key authentication\u001b[39;00m\n\u001b[1;32m     15\u001b[0m \u001b[38;5;66;03m# Connect to the SFTP server\u001b[39;00m\n\u001b[0;32m---> 16\u001b[0m \u001b[38;5;28;01mwith\u001b[39;00m \u001b[43mpysftp\u001b[49m\u001b[38;5;241;43m.\u001b[39;49m\u001b[43mConnection\u001b[49m\u001b[43m(\u001b[49m\u001b[43msftp_host\u001b[49m\u001b[43m,\u001b[49m\u001b[43m \u001b[49m\u001b[43musername\u001b[49m\u001b[38;5;241;43m=\u001b[39;49m\u001b[43msftp_user\u001b[49m\u001b[43m,\u001b[49m\u001b[43m \u001b[49m\u001b[43mpassword\u001b[49m\u001b[38;5;241;43m=\u001b[39;49m\u001b[43msftp_password\u001b[49m\u001b[43m,\u001b[49m\u001b[43m \u001b[49m\u001b[43mcnopts\u001b[49m\u001b[38;5;241;43m=\u001b[39;49m\u001b[43mcnopts\u001b[49m\u001b[43m)\u001b[49m \u001b[38;5;28;01mas\u001b[39;00m sftp:\n\u001b[1;32m     17\u001b[0m     sftp\u001b[38;5;241m.\u001b[39mcwd(remote_directory)\n\u001b[1;32m     18\u001b[0m     files \u001b[38;5;241m=\u001b[39m sftp\u001b[38;5;241m.\u001b[39mlistdir()  \u001b[38;5;66;03m# List all files in the directory\u001b[39;00m\n",
      "File \u001b[0;32m/glade/work/klesinger/conda-envs/numba/lib/python3.10/site-packages/pysftp/__init__.py:140\u001b[0m, in \u001b[0;36mConnection.__init__\u001b[0;34m(self, host, username, private_key, password, port, private_key_pass, ciphers, log, cnopts, default_path)\u001b[0m\n\u001b[1;32m    138\u001b[0m \u001b[38;5;66;03m# Begin the SSH transport.\u001b[39;00m\n\u001b[1;32m    139\u001b[0m \u001b[38;5;28mself\u001b[39m\u001b[38;5;241m.\u001b[39m_transport \u001b[38;5;241m=\u001b[39m \u001b[38;5;28;01mNone\u001b[39;00m\n\u001b[0;32m--> 140\u001b[0m \u001b[38;5;28;43mself\u001b[39;49m\u001b[38;5;241;43m.\u001b[39;49m\u001b[43m_start_transport\u001b[49m\u001b[43m(\u001b[49m\u001b[43mhost\u001b[49m\u001b[43m,\u001b[49m\u001b[43m \u001b[49m\u001b[43mport\u001b[49m\u001b[43m)\u001b[49m\n\u001b[1;32m    141\u001b[0m \u001b[38;5;28mself\u001b[39m\u001b[38;5;241m.\u001b[39m_transport\u001b[38;5;241m.\u001b[39muse_compression(\u001b[38;5;28mself\u001b[39m\u001b[38;5;241m.\u001b[39m_cnopts\u001b[38;5;241m.\u001b[39mcompression)\n\u001b[1;32m    142\u001b[0m \u001b[38;5;28mself\u001b[39m\u001b[38;5;241m.\u001b[39m_set_authentication(password, private_key, private_key_pass)\n",
      "File \u001b[0;32m/glade/work/klesinger/conda-envs/numba/lib/python3.10/site-packages/pysftp/__init__.py:176\u001b[0m, in \u001b[0;36mConnection._start_transport\u001b[0;34m(self, host, port)\u001b[0m\n\u001b[1;32m    174\u001b[0m \u001b[38;5;250m\u001b[39m\u001b[38;5;124;03m'''start the transport and set the ciphers if specified.'''\u001b[39;00m\n\u001b[1;32m    175\u001b[0m \u001b[38;5;28;01mtry\u001b[39;00m:\n\u001b[0;32m--> 176\u001b[0m     \u001b[38;5;28mself\u001b[39m\u001b[38;5;241m.\u001b[39m_transport \u001b[38;5;241m=\u001b[39m \u001b[43mparamiko\u001b[49m\u001b[38;5;241;43m.\u001b[39;49m\u001b[43mTransport\u001b[49m\u001b[43m(\u001b[49m\u001b[43m(\u001b[49m\u001b[43mhost\u001b[49m\u001b[43m,\u001b[49m\u001b[43m \u001b[49m\u001b[43mport\u001b[49m\u001b[43m)\u001b[49m\u001b[43m)\u001b[49m\n\u001b[1;32m    177\u001b[0m     \u001b[38;5;66;03m# Set security ciphers if set\u001b[39;00m\n\u001b[1;32m    178\u001b[0m     \u001b[38;5;28;01mif\u001b[39;00m \u001b[38;5;28mself\u001b[39m\u001b[38;5;241m.\u001b[39m_cnopts\u001b[38;5;241m.\u001b[39mciphers \u001b[38;5;129;01mis\u001b[39;00m \u001b[38;5;129;01mnot\u001b[39;00m \u001b[38;5;28;01mNone\u001b[39;00m:\n",
      "File \u001b[0;32m/glade/work/klesinger/conda-envs/numba/lib/python3.10/site-packages/paramiko/transport.py:499\u001b[0m, in \u001b[0;36mTransport.__init__\u001b[0;34m(self, sock, default_window_size, default_max_packet_size, gss_kex, gss_deleg_creds, disabled_algorithms, server_sig_algs, strict_kex, packetizer_class)\u001b[0m\n\u001b[1;32m    497\u001b[0m                 \u001b[38;5;28;01mbreak\u001b[39;00m\n\u001b[1;32m    498\u001b[0m     \u001b[38;5;28;01melse\u001b[39;00m:\n\u001b[0;32m--> 499\u001b[0m         \u001b[38;5;28;01mraise\u001b[39;00m SSHException(\n\u001b[1;32m    500\u001b[0m             \u001b[38;5;124m\"\u001b[39m\u001b[38;5;124mUnable to connect to \u001b[39m\u001b[38;5;132;01m{}\u001b[39;00m\u001b[38;5;124m: \u001b[39m\u001b[38;5;132;01m{}\u001b[39;00m\u001b[38;5;124m\"\u001b[39m\u001b[38;5;241m.\u001b[39mformat(hostname, reason)\n\u001b[1;32m    501\u001b[0m         )\n\u001b[1;32m    502\u001b[0m \u001b[38;5;66;03m# okay, normal socket-ish flow here...\u001b[39;00m\n\u001b[1;32m    503\u001b[0m threading\u001b[38;5;241m.\u001b[39mThread\u001b[38;5;241m.\u001b[39m\u001b[38;5;21m__init__\u001b[39m(\u001b[38;5;28mself\u001b[39m)\n",
      "\u001b[0;31mSSHException\u001b[0m: Unable to connect to hydras.ugent.be: [Errno 110] Connection timed out"
     ]
    }
   ],
   "source": [
    "# SFTP Credentials\n",
    "sftp_host = \"hydras.ugent.be\"\n",
    "sftp_user = \"gleamuser\"\n",
    "sftp_password = \"\" \n",
    "remote_directory = \"/data/v4.2a/daily/\"\n",
    "local_directory = \"/glade/u/home/klesinger/FD_RZSM_deep_learning/Data/raw_downloads/GLEAM\"\n",
    "\n",
    "# Define the years of interest\n",
    "years = [str(year) for year in range(1999, 2022)]\n",
    "\n",
    "# Connection options (use `cnopts` to disable host key checking if needed)\n",
    "cnopts = pysftp.CnOpts()\n",
    "cnopts.hostkeys = None  # Remove this line if using proper host key authentication\n",
    "\n",
    "# Connect to the SFTP server\n",
    "with pysftp.Connection(sftp_host, username=sftp_user, password=sftp_password, cnopts=cnopts) as sftp:\n",
    "    sftp.cwd(remote_directory)\n",
    "    files = sftp.listdir()  # List all files in the directory\n",
    "\n",
    "    # Loop through all files and download only those that match criteria and don't exist locally\n",
    "    for file in files:\n",
    "        if \"SMs_\" in file and any(year in file for year in years):\n",
    "            local_path = os.path.join(local_directory, file)\n",
    "            \n",
    "            if os.path.exists(local_path):  # Skip if file already exists\n",
    "                print(f\"Skipping {file}, already exists.\")\n",
    "                continue\n",
    "            \n",
    "            print(f\"Downloading {file} to {local_path}...\")\n",
    "            sftp.get(file, local_path)\n",
    "\n",
    "print(\"Download complete!\")\n"
   ]
  },
  {
   "cell_type": "code",
   "execution_count": null,
   "id": "0dac53fc-e2d0-45d1-87a9-cd66c9b79209",
   "metadata": {},
   "outputs": [],
   "source": []
  }
 ],
 "metadata": {
  "kernelspec": {
   "display_name": "Python [conda env:numba]",
   "language": "python",
   "name": "conda-env-numba-py"
  },
  "language_info": {
   "codemirror_mode": {
    "name": "ipython",
    "version": 3
   },
   "file_extension": ".py",
   "mimetype": "text/x-python",
   "name": "python",
   "nbconvert_exporter": "python",
   "pygments_lexer": "ipython3",
   "version": "3.10.12"
  }
 },
 "nbformat": 4,
 "nbformat_minor": 5
}
