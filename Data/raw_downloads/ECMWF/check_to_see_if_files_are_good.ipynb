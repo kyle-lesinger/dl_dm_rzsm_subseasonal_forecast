{
 "cells": [
  {
   "cell_type": "code",
   "execution_count": 1,
   "id": "d98ab745-a451-4d62-a32a-2c4c7206cc1e",
   "metadata": {},
   "outputs": [],
   "source": [
    "import xarray as xr"
   ]
  },
  {
   "cell_type": "code",
   "execution_count": 9,
   "id": "db84a199-07d4-4388-8714-fda90d950ece",
   "metadata": {},
   "outputs": [],
   "source": [
    "a=xr.open_dataset('/glade/derecho/scratch/klesinger/FD_RZSM_deep_learning/Data/reforecast/ECMWF/CONUS/soilw_bgrnd/soilw_bgrnd_2011-10-10.nc')"
   ]
  },
  {
   "cell_type": "code",
   "execution_count": 10,
   "id": "247ba7f3-2161-409d-ac8f-0f9234e29fe0",
   "metadata": {},
   "outputs": [
    {
     "data": {
      "text/plain": [
       "<xarray.Dataset>\n",
       "Dimensions:  (L: 45, M: 11, S: 1, X: 96, Y: 48)\n",
       "Coordinates:\n",
       "  * X        (X) float64 238.0 238.5 239.0 239.5 ... 284.0 284.5 285.0 285.5\n",
       "  * Y        (Y) float64 50.0 49.5 49.0 48.5 48.0 ... 28.5 28.0 27.5 27.0 26.5\n",
       "  * L        (L) int64 0 1 2 3 4 5 6 7 8 9 10 ... 35 36 37 38 39 40 41 42 43 44\n",
       "  * M        (M) int64 0 1 2 3 4 5 6 7 8 9 10\n",
       "  * S        (S) datetime64[ns] 2011-10-10\n",
       "Data variables:\n",
       "    RZSM     (S, M, L, Y, X) float32 ..."
      ]
     },
     "execution_count": 10,
     "metadata": {},
     "output_type": "execute_result"
    }
   ],
   "source": [
    "a"
   ]
  },
  {
   "cell_type": "code",
   "execution_count": 12,
   "id": "7bf9a7b5-bba3-47f0-8bc9-f85876610e61",
   "metadata": {},
   "outputs": [
    {
     "name": "stdout",
     "output_type": "stream",
     "text": [
      "<matplotlib.collections.QuadMesh object at 0x1528ff832710>\n"
     ]
    },
    {
     "data": {
      "image/png": "[encoded data removed]",
      "text/plain": [
       "<Figure size 432x288 with 2 Axes>"
      ]
     },
     "metadata": {
      "needs_background": "light"
     },
     "output_type": "display_data"
    }
   ],
   "source": [
    "print(a.RZSM[0,0,8,:,:].plot())"
   ]
  },
  {
   "cell_type": "code",
   "execution_count": null,
   "id": "eb5cf3d5-1e35-48e6-8210-e338865da860",
   "metadata": {},
   "outputs": [],
   "source": []
  }
 ],
 "metadata": {
  "kernelspec": {
   "display_name": "CMIP6 2019.10a",
   "language": "python",
   "name": "cmip6-201910a"
  },
  "language_info": {
   "codemirror_mode": {
    "name": "ipython",
    "version": 3
   },
   "file_extension": ".py",
   "mimetype": "text/x-python",
   "name": "python",
   "nbconvert_exporter": "python",
   "pygments_lexer": "ipython3",
   "version": "3.7.3"
  }
 },
 "nbformat": 4,
 "nbformat_minor": 5
}
