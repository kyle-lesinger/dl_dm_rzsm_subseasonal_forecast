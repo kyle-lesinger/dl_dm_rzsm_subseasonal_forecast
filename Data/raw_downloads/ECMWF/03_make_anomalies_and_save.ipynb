{
 "cells": [
  {
   "cell_type": "code",
   "execution_count": 1,
   "id": "1371570a-ffe1-45a5-af2c-d1aae599aa29",
   "metadata": {},
   "outputs": [],
   "source": [
    "\n",
    "    \n",
    "import xarray as xr\n",
    "import os\n",
    "import sys\n",
    "from pathlib import Path\n",
    "import xarray as xr\n",
    "from glob import glob\n",
    "import numpy as np\n",
    "import pandas as pd\n",
    "import datetime as dt\n"
   ]
  },
  {
   "cell_type": "markdown",
   "id": "99aabc1b-055c-4651-860b-604336a1465f",
   "metadata": {},
   "source": [
    "# Only do this for RZSM. We are saving the baseline anomaly file separately."
   ]
  },
  {
   "cell_type": "code",
   "execution_count": 2,
   "id": "2063aad1-ed0f-434c-b02f-c618ec24cd8d",
   "metadata": {},
   "outputs": [],
   "source": [
    "# Get the current working directory\n",
    "current_dir = os.getcwd()\n",
    "\n",
    "# Navigate two directories up (where other functions are located\n",
    "two_dirs_up = os.path.abspath(os.path.join(current_dir, '..', '..'))\n",
    "\n",
    "# Add this directory to sys.path\n",
    "sys.path.append(two_dirs_up)\n",
    "sys.path.append('/glade/work/klesinger/FD_RZSM_deep_learning') #this is where the scripts are"
   ]
  },
  {
   "cell_type": "code",
   "execution_count": 3,
   "id": "817efdae-8dd7-4816-bf73-2809eadffddf",
   "metadata": {},
   "outputs": [
    {
     "name": "stderr",
     "output_type": "stream",
     "text": [
      "/glade/work/klesinger/conda-envs/tf212gpu/lib/python3.10/site-packages/tqdm/auto.py:21: TqdmWarning: IProgress not found. Please update jupyter and ipywidgets. See https://ipywidgets.readthedocs.io/en/stable/user_install.html\n",
      "  from .autonotebook import tqdm as notebook_tqdm\n"
     ]
    }
   ],
   "source": [
    "%load_ext autoreload \n",
    "%autoreload 2\n",
    "%reload_ext autoreload\n",
    "\n",
    "from function import preprocessUtils as putils\n",
    "from function import masks"
   ]
  },
  {
   "cell_type": "code",
   "execution_count": 4,
   "id": "8ff85fec-f97c-4a9b-9a66-f0d1caf01d5a",
   "metadata": {},
   "outputs": [],
   "source": [
    "def return_file_list(variable,region_name):\n",
    "    \n",
    "    base_dir = f'/glade/work/klesinger/FD_RZSM_deep_learning/Data/reforecast/ECMWF/{region_name}'\n",
    "\n",
    "\n",
    "    if variable == 'soilw_bgrnd':\n",
    "        #First find the available dates from soil\n",
    "        ecmwf_files = sorted(glob(f'{base_dir}/soilw_bgrnd/*.nc'))\n",
    "    else:\n",
    "        ecmwf_files = sorted(glob(f'{base_dir}/temp_pwat_dewpoint/{variable}*.nc'))\n",
    "    \n",
    "    return(ecmwf_files)"
   ]
  },
  {
   "cell_type": "code",
   "execution_count": 5,
   "id": "c5281a2a-ffbe-470a-afb3-f1bcef7ce100",
   "metadata": {},
   "outputs": [],
   "source": [
    "def open_file_and_move_data_by_lag(file_,num_days_lag, dt, date,variable):\n",
    "    end_dir = f'/glade/work/klesinger/FD_RZSM_deep_learning/Data/reforecast/ECMWF/{region_name}'\n",
    "    \n",
    "    op = xr.open_dataset(file_)\n",
    "\n",
    "    #Now shift everything back within the leads by num_days_lag\n",
    "    op = op.shift(L=-num_days_lag)\n",
    "\n",
    "    #Now change date of file and resave\n",
    "    op['S'] = np.atleast_1d(dt)\n",
    "\n",
    "    #Now resave the file as the new date\n",
    "    a = file_.split('/')\n",
    "    b= a[-1].split(f'{variable}_')[-1].split('.')\n",
    "\n",
    "    if variable != 'soilw_bgrnd':\n",
    "        dir_save_final = 'temp_pwat_dewpoint'\n",
    "    else:\n",
    "        dir_save_final = 'soilw_bgrnd'\n",
    "\n",
    "    end_dir = f'{end_dir}/{dir_save_final}/{variable}_{date}.{b[-1]}'\n",
    "\n",
    "\n",
    "    op.to_netcdf(end_dir)\n",
    "\n",
    "    return(0)"
   ]
  },
  {
   "cell_type": "code",
   "execution_count": 6,
   "id": "7e5eacc1-8dcb-42c0-9a80-e1252413aa02",
   "metadata": {},
   "outputs": [],
   "source": [
    "def find_previous_date_from_GEFS_list(dt, ecmwf_datelist,ecmwf_files):\n",
    "    #First loop through and find the nearest date\n",
    "    behind_dates = [(idx,(dt-i).days) for (idx,i) in enumerate(ecmwf_datelist) if (dt-i).days > 0]\n",
    "    behind_dates = behind_dates[-1] #closest date\n",
    "\n",
    "    #Now grab the index of ecmwf datelist\n",
    "    file_ = ecmwf_files[behind_dates[0]]\n",
    "    num_days_lag = behind_dates[1]\n",
    "    return(file_, num_days_lag)"
   ]
  },
  {
   "cell_type": "code",
   "execution_count": null,
   "id": "699533cc-298e-433a-966d-741f27f4df00",
   "metadata": {},
   "outputs": [],
   "source": []
  },
  {
   "cell_type": "code",
   "execution_count": 7,
   "id": "f9d5fb64-76bd-46c7-95d0-50b4eb52517e",
   "metadata": {},
   "outputs": [],
   "source": [
    "def fix_any_missing_any_files(variable,region_name,mask,return_dataset):\n",
    "\n",
    "    ecmwf_files = return_file_list(variable,region_name)\n",
    "    \n",
    "    final_ecmwf_list = [i for i in ecmwf_files if i.split(f'{variable}_')[-1].split('.nc')[0] in init_dates_gefs]\n",
    "    ecmwf_datelist = [pd.to_datetime(i.split(f'{variable}_')[-1].split('.nc')[0]) for i in ecmwf_files]\n",
    "    \n",
    "    print(f'Number of files in ECMWF list is {len(final_ecmwf_list)}. Number of files in GEFSv12 is {len(init_dates_gefs)}')\n",
    "\n",
    "    if len(final_ecmwf_list) != len(init_dates_gefs):\n",
    "        print(f'There are not the same number of dates between ECMWF and GEFSv12.Number of files in ECMWF list is {len(final_ecmwf_list)}. Number of files in GEFSv12 is {len(init_dates_gefs)}')\n",
    "        gefs_list_datetime = [pd.to_datetime(i) for i in init_dates_gefs]\n",
    "        avail_ecmwf = [i.split(f'{variable}_')[-1].split('.nc')[0] for i in ecmwf_files if i.split(f'{variable}_')[-1].split('.nc')[0] in init_dates_gefs]\n",
    "\n",
    "        missing_dates_ecmwf = [i for i in init_dates_gefs if i not in avail_ecmwf]\n",
    "    \n",
    "        for date in missing_dates_ecmwf:\n",
    "            dt = pd.to_datetime(date)\n",
    "            file_,num_days_lag = find_previous_date_from_GEFS_list(dt, ecmwf_datelist,ecmwf_files)\n",
    "            \n",
    "            #Now process file by subtracting the number of days\n",
    "            open_file_and_move_data_by_lag(file_,num_days_lag, dt, date,variable)\n",
    "            \n",
    "        #Now re-run previous code above \n",
    "        #First find the available dates from soil\n",
    "        ecmwf_files = return_file_list(variable,region_name)\n",
    "        final_ecmwf_list = [i for i in ecmwf_files if i.split(f'{variable}_')[-1].split('.nc')[0] in init_dates_gefs]\n",
    "        assert len(final_ecmwf_list) == len(init_dates_gefs), f'There are not the same number of dates between ECMWF and GEFSv12.Number of files in ECMWF list is {len(final_ecmwf_list)}. Number of files in GEFSv12 is {len(init_dates_gefs)}'\n",
    "\n",
    "        if return_dataset == True:\n",
    "            return(xr.open_mfdataset(final_ecmwf_list))\n",
    "        else:\n",
    "            return(0)\n",
    "    else:\n",
    "        if return_dataset == True:\n",
    "            return(xr.open_mfdataset(final_ecmwf_list))\n",
    "        else:\n",
    "            return(0)"
   ]
  },
  {
   "cell_type": "code",
   "execution_count": null,
   "id": "3c667308-ae47-4ddb-b106-85ebe6689c16",
   "metadata": {},
   "outputs": [],
   "source": []
  },
  {
   "cell_type": "code",
   "execution_count": 10,
   "id": "036fc9d0-4805-4168-bfcc-7c4379f89d3c",
   "metadata": {},
   "outputs": [],
   "source": [
    "def run_function_by_variable_and_region(variable,region_name,mask):\n",
    "    ecm = fix_any_missing_any_files(variable,region_name,mask,True)\n",
    "\n",
    "    #Get GEFS reforecast_files as a template. We only want these dates\n",
    "\n",
    "    gefs_op_files = sorted(glob(f'/glade/work/klesinger/FD_RZSM_deep_learning/Data/reforecast/GEFSv12/{region_name}/{variable}/*.n*'))\n",
    "\n",
    "\n",
    "    #Just rename the coordinates\n",
    "    if region_name == 'CONUS':\n",
    "        new_lon_values = putils.create_new_X_coord_values(ecm)\n",
    "        ecm_subset = ecm.assign_coords({'X':new_lon_values})\n",
    "        ecm_subset = putils.restrict_to_bounding_box(ecm_subset, mask)\n",
    "        if len(ecm_subset.Y.values) == 0:\n",
    "            #just flip the Y coordinates\n",
    "            ecm_subset = ecm.assign_coords({'X':new_lon_values}) #include longitude just to re-create the object\n",
    "            ecm_subset = ecm_subset.sel(Y=slice(mask.Y.values[-1],mask.Y.values[0])).sel(X=slice(mask.X.values[0],mask.X.values[-1]))\n",
    "    else:\n",
    "        ecm_subset = ecm\n",
    "\n",
    "\n",
    "    ecm_subset[putils.xarray_varname(ecm_subset)][0,0,:,40,40].values #Just check if there are values\n",
    "    \n",
    "    # Now construct anomalies\n",
    "    ecm_anom, climatology_season = putils.create_seasonal_anomaly(ecm_subset, train_end)\n",
    "    ecm_anom = ecm_anom.rolling(L=7, min_periods=7,center=False).mean().load()\n",
    "\n",
    "    # ecm_anom.RZSM[0,0,:,10,10].values #just check if values are present for leads 6,13,20,27,34\n",
    "    # a=ecm_anom.isel(S=0).sel(L=[6,13,20,27,34])\n",
    "    # a.RZSM[0,:,10,10].values #just check if values are present for leads 6,13,20,27,34\n",
    "    # #Select only specific leads\n",
    "    \n",
    "    putils.save_baseline_ECMWF_RZSM_anomaly(ecm_anom.sel(L=[6,13,20,27,34]), region_name)\n",
    "\n",
    "    return(0)"
   ]
  },
  {
   "cell_type": "markdown",
   "id": "94b9b4f3-0d65-416f-85d9-be29e5abfc5a",
   "metadata": {},
   "source": [
    "# Now we have the same dates of files ready for pre-processing"
   ]
  },
  {
   "cell_type": "code",
   "execution_count": 24,
   "id": "1c0964c4-84c9-4309-be75-a1f06c3fb127",
   "metadata": {},
   "outputs": [
    {
     "name": "stdout",
     "output_type": "stream",
     "text": [
      "\n",
      "Latitude values for mask is [50.  49.5 49.  48.5 48.  47.5 47.  46.5 46.  45.5 45.  44.5 44.  43.5\n",
      " 43.  42.5 42.  41.5 41.  40.5 40.  39.5 39.  38.5 38.  37.5 37.  36.5\n",
      " 36.  35.5 35.  34.5 34.  33.5 33.  32.5 32.  31.5 31.  30.5 30.  29.5\n",
      " 29.  28.5 28.  27.5 27.  26.5]\n",
      "\n",
      "Longitude values for mask is [238.  238.5 239.  239.5 240.  240.5 241.  241.5 242.  242.5 243.  243.5\n",
      " 244.  244.5 245.  245.5 246.  246.5 247.  247.5 248.  248.5 249.  249.5\n",
      " 250.  250.5 251.  251.5 252.  252.5 253.  253.5 254.  254.5 255.  255.5\n",
      " 256.  256.5 257.  257.5 258.  258.5 259.  259.5 260.  260.5 261.  261.5\n",
      " 262.  262.5 263.  263.5 264.  264.5 265.  265.5 266.  266.5 267.  267.5\n",
      " 268.  268.5 269.  269.5 270.  270.5 271.  271.5 272.  272.5 273.  273.5\n",
      " 274.  274.5 275.  275.5 276.  276.5 277.  277.5 278.  278.5 279.  279.5\n",
      " 280.  280.5 281.  281.5 282.  282.5 283.  283.5 284.  284.5 285.  285.5]\n",
      "Number of files in ECMWF list is 1042. Number of files in GEFSv12 is 1043\n",
      "There are not the same number of dates between ECMWF and GEFSv12.Number of files in ECMWF list is 1042. Number of files in GEFSv12 is 1043\n",
      "Number of files in ECMWF list is 1042. Number of files in GEFSv12 is 1043\n",
      "There are not the same number of dates between ECMWF and GEFSv12.Number of files in ECMWF list is 1042. Number of files in GEFSv12 is 1043\n",
      "Number of files in ECMWF list is 1042. Number of files in GEFSv12 is 1043\n",
      "There are not the same number of dates between ECMWF and GEFSv12.Number of files in ECMWF list is 1042. Number of files in GEFSv12 is 1043\n"
     ]
    }
   ],
   "source": [
    "\n",
    "for region_name in ['australia', 'CONUS', 'china']:\n",
    "    mask = putils.return_proper_mask_for_bounding(region_name)\n",
    "    #Now get the init dates from GEFSv12 (we can just use the CONUS files as the baseline. \n",
    "    init_dates_gefs = putils.get_init_date_list('/glade/work/klesinger/FD_RZSM_deep_learning/Data/reforecast/GEFSv12/CONUS/soilw_bgrnd')\n",
    "    for variable in ['soilw_bgrnd','t2m','d2m','tcw']:\n",
    "        # break\n",
    "        train_end = 2015\n",
    "        \n",
    "        #Call\n",
    "        \n",
    "        \n",
    "        if variable == 'soilw_bgrnd':\n",
    "            #fix_any_missing_any_files function is already built into run_function_by_variable_and_region\n",
    "            run_function_by_variable_and_region(variable,region_name,mask) #We only want to save soilw_bgrnd as a baseline anomaly because this is what we are going to verify as the output.\n",
    "        else:\n",
    "            fix_any_missing_any_files(variable,region_name,mask,False)\n"
   ]
  },
  {
   "cell_type": "code",
   "execution_count": null,
   "id": "e2ecf378-67db-40f2-81f6-f9de2d580f11",
   "metadata": {},
   "outputs": [],
   "source": [
    "\n"
   ]
  },
  {
   "cell_type": "code",
   "execution_count": null,
   "id": "eea7e3b2-8f1e-48d4-9e08-c5256b44ff00",
   "metadata": {},
   "outputs": [],
   "source": [
    "\n",
    "\n",
    "# gef = xr.open_mfdataset(gefs_op_files)"
   ]
  },
  {
   "cell_type": "code",
   "execution_count": null,
   "id": "aca2bb90-683e-4c79-a0e2-08b9631a7aa3",
   "metadata": {},
   "outputs": [],
   "source": []
  },
  {
   "cell_type": "code",
   "execution_count": null,
   "id": "de1557a9-00b2-4b32-8ff0-5595824d32df",
   "metadata": {},
   "outputs": [],
   "source": [
    "# #checking if there are bad file\n",
    "# for file in final_ecmwf_list:\n",
    "#     a = xr.open_dataset(file)\n",
    "#     print(a.S.values)\n",
    "#     # print(f'{a.S.shape[0]}-{a.M.shape[0]}-{a.L.shape[0]}-{a.Y.shape[0]}-{a.X.shape[0]}')\n"
   ]
  },
  {
   "cell_type": "code",
   "execution_count": null,
   "id": "121b813e-90ff-4af0-b26b-ed2286a52dfb",
   "metadata": {},
   "outputs": [],
   "source": [
    "\n"
   ]
  },
  {
   "cell_type": "code",
   "execution_count": null,
   "id": "1037decd-5784-430e-a83e-fd2677689be2",
   "metadata": {},
   "outputs": [],
   "source": []
  },
  {
   "cell_type": "code",
   "execution_count": null,
   "id": "d34cf2f5-6580-4f36-80aa-6a011a1d9c9a",
   "metadata": {},
   "outputs": [],
   "source": []
  },
  {
   "cell_type": "code",
   "execution_count": null,
   "id": "74e32213-f78e-44c0-89a1-5bfb5bd5e9e4",
   "metadata": {},
   "outputs": [],
   "source": []
  },
  {
   "cell_type": "code",
   "execution_count": null,
   "id": "26bae64e-158c-41da-8e82-37903862ee47",
   "metadata": {},
   "outputs": [],
   "source": [
    "#Find the dates that do exist\n"
   ]
  }
 ],
 "metadata": {
  "kernelspec": {
   "display_name": "Python [conda env:tf212gpu]",
   "language": "python",
   "name": "conda-env-tf212gpu-py"
  },
  "language_info": {
   "codemirror_mode": {
    "name": "ipython",
    "version": 3
   },
   "file_extension": ".py",
   "mimetype": "text/x-python",
   "name": "python",
   "nbconvert_exporter": "python",
   "pygments_lexer": "ipython3",
   "version": "3.10.12"
  }
 },
 "nbformat": 4,
 "nbformat_minor": 5
}
